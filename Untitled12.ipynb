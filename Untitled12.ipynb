{
 "cells": [
  {
   "cell_type": "markdown",
   "id": "0818d26e",
   "metadata": {},
   "source": [
    "# Data Science Tools"
   ]
  },
  {
   "cell_type": "markdown",
   "id": "de093e61",
   "metadata": {},
   "source": [
    "In this notebook, Data Science Tools and Ecosyste are summarized "
   ]
  },
  {
   "cell_type": "markdown",
   "id": "264b9764",
   "metadata": {},
   "source": [
    "**Objectives:**\n",
    "\n",
    "- Understand and evaluate basic arithmetic expressions in Python\n",
    "- Perform conversion operations, such as converting minutes to hours\n",
    "- Learn about popular languages for data science, including Python and R\n",
    "- Introduction to various open-source tools used in data science, such as Jupyter Notebook, RStudio, and Apache Zeppelin\n",
    "- Create and manipulate markdown and code cells in a Jupyter notebook"
   ]
  },
  {
   "cell_type": "markdown",
   "id": "3696585b",
   "metadata": {},
   "source": [
    "Some of the popular languages that Data Scientists use are:  \n",
    "\n",
    "1. Python\n",
    "2. R\n",
    "3. JAVA"
   ]
  },
  {
   "cell_type": "markdown",
   "id": "6aaddcdc",
   "metadata": {},
   "source": [
    "Some of the commonly used libraries used by Data Scientists include: \n",
    "1. Sckitlearn\n",
    "2. Numpy\n",
    "3. Matplotlib"
   ]
  },
  {
   "cell_type": "markdown",
   "id": "0611010b",
   "metadata": {},
   "source": [
    "| Data Science Tools |\n",
    "|--------------------|\n",
    "| Jupyter Notebook   |\n",
    "| RStudio            |\n",
    "| Apache Zeppelin    |"
   ]
  },
  {
   "cell_type": "markdown",
   "id": "3d56f75f",
   "metadata": {},
   "source": [
    "### Below are a few examples of evaluating arithmetic expressions in Python:\n",
    "\n",
    "1. Addition: `3 + 2` results in `5`\n",
    "2. Subtraction: `3 - 2` results in `1`\n",
    "3. Multiplication: `3 * 2` results in `6`\n",
    "4. Division: `3 / 2` results in `1.5`\n",
    "5. Floor Division: `3 // 2` results in `1`\n",
    "6. Modulus: `3 % 2` results in `1`\n",
    "7. Exponent: `3 ** 2` results in `9`"
   ]
  },
  {
   "cell_type": "code",
   "execution_count": 2,
   "id": "76294697",
   "metadata": {},
   "outputs": [
    {
     "name": "stdout",
     "output_type": "stream",
     "text": [
      "17\n"
     ]
    }
   ],
   "source": [
    "# This is a simple arithmetic expression to multiply then add integers.\n",
    "result = (3 * 4) + 5\n",
    "print(result)"
   ]
  },
  {
   "cell_type": "code",
   "execution_count": 3,
   "id": "6c1a7285",
   "metadata": {},
   "outputs": [
    {
     "name": "stdout",
     "output_type": "stream",
     "text": [
      "3.3333333333333335\n"
     ]
    }
   ],
   "source": [
    "# This will convert 200 minutes to hours by dividing by 60.\n",
    "hours = 200 / 60\n",
    "print(hours)"
   ]
  },
  {
   "cell_type": "markdown",
   "id": "842d127e",
   "metadata": {},
   "source": [
    "## Author\n",
    "\n",
    "Abd Errahmane"
   ]
  },
  {
   "cell_type": "code",
   "execution_count": null,
   "id": "d936057e",
   "metadata": {},
   "outputs": [],
   "source": []
  }
 ],
 "metadata": {
  "kernelspec": {
   "display_name": "Python 3 (ipykernel)",
   "language": "python",
   "name": "python3"
  },
  "language_info": {
   "codemirror_mode": {
    "name": "ipython",
    "version": 3
   },
   "file_extension": ".py",
   "mimetype": "text/x-python",
   "name": "python",
   "nbconvert_exporter": "python",
   "pygments_lexer": "ipython3",
   "version": "3.9.7"
  }
 },
 "nbformat": 4,
 "nbformat_minor": 5
}
